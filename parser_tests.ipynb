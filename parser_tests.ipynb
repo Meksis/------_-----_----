{
 "cells": [
  {
   "cell_type": "code",
   "execution_count": 1,
   "metadata": {
    "notebookRunGroups": {
     "groupValue": "1"
    }
   },
   "outputs": [],
   "source": [
    "from selenium.webdriver import Chrome\n",
    "from selenium.webdriver.common.by import By\n",
    "\n",
    "# from selenium.webdriver.common.desired_capabilities import DesiredCapabilities\n",
    "from selenium.webdriver.support.wait import WebDriverWait\n",
    "from selenium.webdriver.support import expected_conditions as EC\n",
    "\n",
    "\n",
    "\n",
    "\n",
    "from datetime import datetime\n",
    "import pandas as pd"
   ]
  },
  {
   "cell_type": "code",
   "execution_count": 2,
   "metadata": {
    "notebookRunGroups": {
     "groupValue": "1"
    }
   },
   "outputs": [],
   "source": [
    "urls = {\n",
    "    'avito.ru' : \"https://www.avito.ru/rossiya/avtomobili?cd=1&radius=0&q=\",\n",
    "    'auto.ru' : \"https://auto.ru/cars/\",         # + /all\n",
    "    'drom.ru' : \"https://auto.drom.ru/cars/\"         # + /all\n",
    "}"
   ]
  },
  {
   "cell_type": "code",
   "execution_count": 3,
   "metadata": {
    "notebookRunGroups": {
     "groupValue": "1"
    }
   },
   "outputs": [],
   "source": [
    "class Parsers:\n",
    "    def __init__(self, urls, driver : Chrome) -> None:\n",
    "        self.urls = urls\n",
    "        self.driver = driver\n",
    "\n",
    "    def get_avito(self, search_query : str):\n",
    "        self.cars_datas = pd.DataFrame()\n",
    "        self.driver.get(self.urls['avito.ru'] + search_query)\n",
    "\n",
    "        cars_panels = self.driver.find_elements(By.CSS_SELECTOR, 'div.iva-item-root-_lk9K.photo-slider-slider-S15A_.iva-item-list-rfgcH.iva-item-redesign-rop6P.iva-item-responsive-_lbhG.iva-item-xl-_jicv.items-item-My3ih.items-listItem-Gd1jN.js-catalog-item-enum')\n",
    "\n",
    "        car_data = {}\n",
    "        print(cars_panels[0].text)\n",
    "\n",
    "\n",
    "        for car_panel in cars_panels:\n",
    "            publication_name = car_panel.find_element(By.CLASS_NAME, 'iva-item-titleStep-pdebR').text\n",
    "            name, year, mileage = publication_name.split(',')\n",
    "\n",
    "\n",
    "\n",
    "            car_data.update({\n",
    "                'car_model' : name,\n",
    "                'car_year_produced' : year,\n",
    "                'car_mileage' : int(mileage.replace(' ', '')[: -3]),\n",
    "                'car_price' : ''.join(car_panel.find_element(By.CLASS_NAME, 'price-root-RA1pj').text.split(' '))[: -1],\n",
    "                'publication_link' : car_panel.find_element(By.CLASS_NAME, 'iva-item-title-py3i_').find_element(By.CSS_SELECTOR, 'a.styles-module-root-QmppR.styles-module-root_noVisited-aFA10').get_attribute('href')\n",
    "\n",
    "            })\n",
    "\n",
    "            self.cars_datas = pd.concat([self.cars_datas, pd.DataFrame([car_data])])\n",
    "\n",
    "\n",
    "            print(car_data)\n",
    "\n",
    "\n",
    "\n",
    "\n",
    "\n",
    "        # pages_panel = self.driver.find_element(By.CSS_SELECTOR, 'ul.styles-module-root-nZne3.styles-module-root_size_s-FzmdD')\n",
    "\n",
    "        try:\n",
    "            next_button = self.driver.find_element(By.CSS_SELECTOR, 'a.styles-module-item-kF45w.styles-module-item_arrow-sxBqe.styles-module-item_size_s-Tvz95.styles-module-item_link-_bV2N')\n",
    "\n",
    "            print(next_button.text)\n",
    "            \n",
    "            return self.cars_datas\n",
    "            # break\n",
    "            next_button.click()\n",
    "            self.get_avito(search_query=search_query)\n",
    "\n",
    "        except:\n",
    "            # Последняя страница\n",
    "            return(self.cars_datas.reset_index())\n",
    "\n",
    "\n",
    "\n",
    "\n",
    "\n"
   ]
  },
  {
   "cell_type": "markdown",
   "metadata": {},
   "source": [
    "---"
   ]
  },
  {
   "cell_type": "code",
   "execution_count": 9,
   "metadata": {},
   "outputs": [],
   "source": [
    "test_driver = Chrome()\n",
    "test_driver.implicitly_wait(0)"
   ]
  },
  {
   "cell_type": "code",
   "execution_count": 10,
   "metadata": {},
   "outputs": [],
   "source": [
    "try:\n",
    "    test_driver.get(urls['avito.ru'])\n",
    "\n",
    "except:\n",
    "    print(test_driver.find_element(By.CSS_SELECTOR, 'div.iva-item-root-_lk9K.photo-slider-slider-S15A_.iva-item-list-rfgcH.iva-item-redesign-rop6P.iva-item-responsive-_lbhG.iva-item-xl-_jicv.items-item-My3ih.items-listItem-Gd1jN.js-catalog-item-enum').text)"
   ]
  },
  {
   "cell_type": "code",
   "execution_count": 5,
   "metadata": {},
   "outputs": [
    {
     "ename": "TimeoutException",
     "evalue": "Message: \n",
     "output_type": "error",
     "traceback": [
      "\u001b[1;31m---------------------------------------------------------------------------\u001b[0m",
      "\u001b[1;31mTimeoutException\u001b[0m                          Traceback (most recent call last)",
      "Cell \u001b[1;32mIn[5], line 3\u001b[0m\n\u001b[0;32m      1\u001b[0m wait \u001b[38;5;241m=\u001b[39m WebDriverWait(test_driver, \u001b[38;5;241m5\u001b[39m)\n\u001b[0;32m      2\u001b[0m test_driver\u001b[38;5;241m.\u001b[39mget(urls[\u001b[38;5;124m'\u001b[39m\u001b[38;5;124mavito.ru\u001b[39m\u001b[38;5;124m'\u001b[39m])\n\u001b[1;32m----> 3\u001b[0m \u001b[43mwait\u001b[49m\u001b[38;5;241;43m.\u001b[39;49m\u001b[43muntil_not\u001b[49m\u001b[43m(\u001b[49m\u001b[38;5;28;43;01mlambda\u001b[39;49;00m\u001b[43m \u001b[49m\u001b[43mx\u001b[49m\u001b[43m:\u001b[49m\u001b[43m \u001b[49m\u001b[43mx\u001b[49m\u001b[38;5;241;43m.\u001b[39;49m\u001b[43mfind_element\u001b[49m\u001b[43m(\u001b[49m\u001b[43mBy\u001b[49m\u001b[38;5;241;43m.\u001b[39;49m\u001b[43mCSS_SELECTOR\u001b[49m\u001b[43m,\u001b[49m\u001b[43m \u001b[49m\u001b[38;5;124;43m'\u001b[39;49m\u001b[38;5;124;43mdiv.iva-item-root-_lk9K.photo-slider-slider-S15A_.iva-item-list-rfgcH.iva-item-redesign-rop6P.iva-item-responsive-_lbhG.iva-item-xl-_jicv.items-item-My3ih.items-listItem-Gd1jN.js-catalog-item-enum\u001b[39;49m\u001b[38;5;124;43m'\u001b[39;49m\u001b[43m)\u001b[49m\u001b[38;5;241;43m.\u001b[39;49m\u001b[43mis_displayed\u001b[49m\u001b[43m(\u001b[49m\u001b[43m)\u001b[49m\u001b[43m)\u001b[49m\n\u001b[0;32m      5\u001b[0m \u001b[38;5;66;03m# wait.until(EC.visibility_of_element_located((By.CSS_SELECTOR, 'div.iva-item-root-_lk9K.photo-slider-slider-S15A_.iva-item-list-rfgcH.iva-item-redesign-rop6P.iva-item-responsive-_lbhG.iva-item-xl-_jicv.items-item-My3ih.items-listItem-Gd1jN.js-catalog-item-enum')))\u001b[39;00m\n\u001b[0;32m      6\u001b[0m test_driver\u001b[38;5;241m.\u001b[39mexecute_script(\u001b[38;5;124m\"\u001b[39m\u001b[38;5;124mwindow.stop();\u001b[39m\u001b[38;5;124m\"\u001b[39m)\n",
      "File \u001b[1;32ml:\\Programms\\Python\\Lib\\site-packages\\selenium\\webdriver\\support\\wait.py:128\u001b[0m, in \u001b[0;36mWebDriverWait.until_not\u001b[1;34m(self, method, message)\u001b[0m\n\u001b[0;32m    126\u001b[0m     \u001b[38;5;28;01mif\u001b[39;00m time\u001b[38;5;241m.\u001b[39mmonotonic() \u001b[38;5;241m>\u001b[39m end_time:\n\u001b[0;32m    127\u001b[0m         \u001b[38;5;28;01mbreak\u001b[39;00m\n\u001b[1;32m--> 128\u001b[0m \u001b[38;5;28;01mraise\u001b[39;00m TimeoutException(message)\n",
      "\u001b[1;31mTimeoutException\u001b[0m: Message: \n"
     ]
    }
   ],
   "source": [
    "# wait = WebDriverWait(test_driver, 5)\n",
    "\n",
    "test_driver.get(urls['avito.ru'])\n",
    "# wait.until_not(lambda x: x.find_element(By.CSS_SELECTOR, 'div.iva-item-root-_lk9K.photo-slider-slider-S15A_.iva-item-list-rfgcH.iva-item-redesign-rop6P.iva-item-responsive-_lbhG.iva-item-xl-_jicv.items-item-My3ih.items-listItem-Gd1jN.js-catalog-item-enum').is_displayed())\n",
    "\n",
    "# wait.until(EC.visibility_of_element_located((By.CSS_SELECTOR, 'div.iva-item-root-_lk9K.photo-slider-slider-S15A_.iva-item-list-rfgcH.iva-item-redesign-rop6P.iva-item-responsive-_lbhG.iva-item-xl-_jicv.items-item-My3ih.items-listItem-Gd1jN.js-catalog-item-enum')))\n",
    "# test_driver.execute_script(\"window.stop();\")"
   ]
  },
  {
   "cell_type": "code",
   "execution_count": 4,
   "metadata": {
    "notebookRunGroups": {
     "groupValue": "1"
    }
   },
   "outputs": [],
   "source": [
    "parsers = Parsers(urls, Chrome())"
   ]
  },
  {
   "cell_type": "code",
   "execution_count": 5,
   "metadata": {
    "notebookRunGroups": {
     "groupValue": "1"
    }
   },
   "outputs": [
    {
     "ename": "KeyboardInterrupt",
     "evalue": "",
     "output_type": "error",
     "traceback": [
      "\u001b[1;31m---------------------------------------------------------------------------\u001b[0m",
      "\u001b[1;31mKeyboardInterrupt\u001b[0m                         Traceback (most recent call last)",
      "Cell \u001b[1;32mIn[5], line 1\u001b[0m\n\u001b[1;32m----> 1\u001b[0m \u001b[43mparsers\u001b[49m\u001b[38;5;241;43m.\u001b[39;49m\u001b[43mget_avito\u001b[49m\u001b[43m(\u001b[49m\u001b[38;5;124;43m'\u001b[39;49m\u001b[38;5;124;43mBMW x6 2020\u001b[39;49m\u001b[38;5;124;43m'\u001b[39;49m\u001b[43m)\u001b[49m\n",
      "Cell \u001b[1;32mIn[3], line 8\u001b[0m, in \u001b[0;36mParsers.get_avito\u001b[1;34m(self, search_query)\u001b[0m\n\u001b[0;32m      6\u001b[0m \u001b[38;5;28;01mdef\u001b[39;00m \u001b[38;5;21mget_avito\u001b[39m(\u001b[38;5;28mself\u001b[39m, search_query : \u001b[38;5;28mstr\u001b[39m):\n\u001b[0;32m      7\u001b[0m     \u001b[38;5;28mself\u001b[39m\u001b[38;5;241m.\u001b[39mcars_datas \u001b[38;5;241m=\u001b[39m pd\u001b[38;5;241m.\u001b[39mDataFrame()\n\u001b[1;32m----> 8\u001b[0m     \u001b[38;5;28;43mself\u001b[39;49m\u001b[38;5;241;43m.\u001b[39;49m\u001b[43mdriver\u001b[49m\u001b[38;5;241;43m.\u001b[39;49m\u001b[43mget\u001b[49m\u001b[43m(\u001b[49m\u001b[38;5;28;43mself\u001b[39;49m\u001b[38;5;241;43m.\u001b[39;49m\u001b[43murls\u001b[49m\u001b[43m[\u001b[49m\u001b[38;5;124;43m'\u001b[39;49m\u001b[38;5;124;43mavito.ru\u001b[39;49m\u001b[38;5;124;43m'\u001b[39;49m\u001b[43m]\u001b[49m\u001b[43m \u001b[49m\u001b[38;5;241;43m+\u001b[39;49m\u001b[43m \u001b[49m\u001b[43msearch_query\u001b[49m\u001b[43m)\u001b[49m\n\u001b[0;32m     10\u001b[0m     cars_panels \u001b[38;5;241m=\u001b[39m \u001b[38;5;28mself\u001b[39m\u001b[38;5;241m.\u001b[39mdriver\u001b[38;5;241m.\u001b[39mfind_elements(By\u001b[38;5;241m.\u001b[39mCSS_SELECTOR, \u001b[38;5;124m'\u001b[39m\u001b[38;5;124mdiv.iva-item-root-_lk9K.photo-slider-slider-S15A_.iva-item-list-rfgcH.iva-item-redesign-rop6P.iva-item-responsive-_lbhG.iva-item-xl-_jicv.items-item-My3ih.items-listItem-Gd1jN.js-catalog-item-enum\u001b[39m\u001b[38;5;124m'\u001b[39m)\n\u001b[0;32m     12\u001b[0m     car_data \u001b[38;5;241m=\u001b[39m {}\n",
      "File \u001b[1;32ml:\\Programms\\Python\\Lib\\site-packages\\selenium\\webdriver\\remote\\webdriver.py:357\u001b[0m, in \u001b[0;36mWebDriver.get\u001b[1;34m(self, url)\u001b[0m\n\u001b[0;32m    355\u001b[0m \u001b[38;5;28;01mdef\u001b[39;00m \u001b[38;5;21mget\u001b[39m(\u001b[38;5;28mself\u001b[39m, url: \u001b[38;5;28mstr\u001b[39m) \u001b[38;5;241m-\u001b[39m\u001b[38;5;241m>\u001b[39m \u001b[38;5;28;01mNone\u001b[39;00m:\n\u001b[0;32m    356\u001b[0m \u001b[38;5;250m    \u001b[39m\u001b[38;5;124;03m\"\"\"Loads a web page in the current browser session.\"\"\"\u001b[39;00m\n\u001b[1;32m--> 357\u001b[0m     \u001b[38;5;28;43mself\u001b[39;49m\u001b[38;5;241;43m.\u001b[39;49m\u001b[43mexecute\u001b[49m\u001b[43m(\u001b[49m\u001b[43mCommand\u001b[49m\u001b[38;5;241;43m.\u001b[39;49m\u001b[43mGET\u001b[49m\u001b[43m,\u001b[49m\u001b[43m \u001b[49m\u001b[43m{\u001b[49m\u001b[38;5;124;43m\"\u001b[39;49m\u001b[38;5;124;43murl\u001b[39;49m\u001b[38;5;124;43m\"\u001b[39;49m\u001b[43m:\u001b[49m\u001b[43m \u001b[49m\u001b[43murl\u001b[49m\u001b[43m}\u001b[49m\u001b[43m)\u001b[49m\n",
      "File \u001b[1;32ml:\\Programms\\Python\\Lib\\site-packages\\selenium\\webdriver\\remote\\webdriver.py:346\u001b[0m, in \u001b[0;36mWebDriver.execute\u001b[1;34m(self, driver_command, params)\u001b[0m\n\u001b[0;32m    343\u001b[0m     \u001b[38;5;28;01melif\u001b[39;00m \u001b[38;5;124m\"\u001b[39m\u001b[38;5;124msessionId\u001b[39m\u001b[38;5;124m\"\u001b[39m \u001b[38;5;129;01mnot\u001b[39;00m \u001b[38;5;129;01min\u001b[39;00m params:\n\u001b[0;32m    344\u001b[0m         params[\u001b[38;5;124m\"\u001b[39m\u001b[38;5;124msessionId\u001b[39m\u001b[38;5;124m\"\u001b[39m] \u001b[38;5;241m=\u001b[39m \u001b[38;5;28mself\u001b[39m\u001b[38;5;241m.\u001b[39msession_id\n\u001b[1;32m--> 346\u001b[0m response \u001b[38;5;241m=\u001b[39m \u001b[38;5;28;43mself\u001b[39;49m\u001b[38;5;241;43m.\u001b[39;49m\u001b[43mcommand_executor\u001b[49m\u001b[38;5;241;43m.\u001b[39;49m\u001b[43mexecute\u001b[49m\u001b[43m(\u001b[49m\u001b[43mdriver_command\u001b[49m\u001b[43m,\u001b[49m\u001b[43m \u001b[49m\u001b[43mparams\u001b[49m\u001b[43m)\u001b[49m\n\u001b[0;32m    347\u001b[0m \u001b[38;5;28;01mif\u001b[39;00m response:\n\u001b[0;32m    348\u001b[0m     \u001b[38;5;28mself\u001b[39m\u001b[38;5;241m.\u001b[39merror_handler\u001b[38;5;241m.\u001b[39mcheck_response(response)\n",
      "File \u001b[1;32ml:\\Programms\\Python\\Lib\\site-packages\\selenium\\webdriver\\remote\\remote_connection.py:300\u001b[0m, in \u001b[0;36mRemoteConnection.execute\u001b[1;34m(self, command, params)\u001b[0m\n\u001b[0;32m    298\u001b[0m data \u001b[38;5;241m=\u001b[39m utils\u001b[38;5;241m.\u001b[39mdump_json(params)\n\u001b[0;32m    299\u001b[0m url \u001b[38;5;241m=\u001b[39m \u001b[38;5;124mf\u001b[39m\u001b[38;5;124m\"\u001b[39m\u001b[38;5;132;01m{\u001b[39;00m\u001b[38;5;28mself\u001b[39m\u001b[38;5;241m.\u001b[39m_url\u001b[38;5;132;01m}\u001b[39;00m\u001b[38;5;132;01m{\u001b[39;00mpath\u001b[38;5;132;01m}\u001b[39;00m\u001b[38;5;124m\"\u001b[39m\n\u001b[1;32m--> 300\u001b[0m \u001b[38;5;28;01mreturn\u001b[39;00m \u001b[38;5;28;43mself\u001b[39;49m\u001b[38;5;241;43m.\u001b[39;49m\u001b[43m_request\u001b[49m\u001b[43m(\u001b[49m\u001b[43mcommand_info\u001b[49m\u001b[43m[\u001b[49m\u001b[38;5;241;43m0\u001b[39;49m\u001b[43m]\u001b[49m\u001b[43m,\u001b[49m\u001b[43m \u001b[49m\u001b[43murl\u001b[49m\u001b[43m,\u001b[49m\u001b[43m \u001b[49m\u001b[43mbody\u001b[49m\u001b[38;5;241;43m=\u001b[39;49m\u001b[43mdata\u001b[49m\u001b[43m)\u001b[49m\n",
      "File \u001b[1;32ml:\\Programms\\Python\\Lib\\site-packages\\selenium\\webdriver\\remote\\remote_connection.py:321\u001b[0m, in \u001b[0;36mRemoteConnection._request\u001b[1;34m(self, method, url, body)\u001b[0m\n\u001b[0;32m    318\u001b[0m     body \u001b[38;5;241m=\u001b[39m \u001b[38;5;28;01mNone\u001b[39;00m\n\u001b[0;32m    320\u001b[0m \u001b[38;5;28;01mif\u001b[39;00m \u001b[38;5;28mself\u001b[39m\u001b[38;5;241m.\u001b[39mkeep_alive:\n\u001b[1;32m--> 321\u001b[0m     response \u001b[38;5;241m=\u001b[39m \u001b[38;5;28;43mself\u001b[39;49m\u001b[38;5;241;43m.\u001b[39;49m\u001b[43m_conn\u001b[49m\u001b[38;5;241;43m.\u001b[39;49m\u001b[43mrequest\u001b[49m\u001b[43m(\u001b[49m\u001b[43mmethod\u001b[49m\u001b[43m,\u001b[49m\u001b[43m \u001b[49m\u001b[43murl\u001b[49m\u001b[43m,\u001b[49m\u001b[43m \u001b[49m\u001b[43mbody\u001b[49m\u001b[38;5;241;43m=\u001b[39;49m\u001b[43mbody\u001b[49m\u001b[43m,\u001b[49m\u001b[43m \u001b[49m\u001b[43mheaders\u001b[49m\u001b[38;5;241;43m=\u001b[39;49m\u001b[43mheaders\u001b[49m\u001b[43m)\u001b[49m\n\u001b[0;32m    322\u001b[0m     statuscode \u001b[38;5;241m=\u001b[39m response\u001b[38;5;241m.\u001b[39mstatus\n\u001b[0;32m    323\u001b[0m \u001b[38;5;28;01melse\u001b[39;00m:\n",
      "File \u001b[1;32ml:\\Programms\\Python\\Lib\\site-packages\\urllib3\\_request_methods.py:118\u001b[0m, in \u001b[0;36mRequestMethods.request\u001b[1;34m(self, method, url, body, fields, headers, json, **urlopen_kw)\u001b[0m\n\u001b[0;32m    110\u001b[0m     \u001b[38;5;28;01mreturn\u001b[39;00m \u001b[38;5;28mself\u001b[39m\u001b[38;5;241m.\u001b[39mrequest_encode_url(\n\u001b[0;32m    111\u001b[0m         method,\n\u001b[0;32m    112\u001b[0m         url,\n\u001b[1;32m   (...)\u001b[0m\n\u001b[0;32m    115\u001b[0m         \u001b[38;5;241m*\u001b[39m\u001b[38;5;241m*\u001b[39murlopen_kw,\n\u001b[0;32m    116\u001b[0m     )\n\u001b[0;32m    117\u001b[0m \u001b[38;5;28;01melse\u001b[39;00m:\n\u001b[1;32m--> 118\u001b[0m     \u001b[38;5;28;01mreturn\u001b[39;00m \u001b[38;5;28;43mself\u001b[39;49m\u001b[38;5;241;43m.\u001b[39;49m\u001b[43mrequest_encode_body\u001b[49m\u001b[43m(\u001b[49m\n\u001b[0;32m    119\u001b[0m \u001b[43m        \u001b[49m\u001b[43mmethod\u001b[49m\u001b[43m,\u001b[49m\u001b[43m \u001b[49m\u001b[43murl\u001b[49m\u001b[43m,\u001b[49m\u001b[43m \u001b[49m\u001b[43mfields\u001b[49m\u001b[38;5;241;43m=\u001b[39;49m\u001b[43mfields\u001b[49m\u001b[43m,\u001b[49m\u001b[43m \u001b[49m\u001b[43mheaders\u001b[49m\u001b[38;5;241;43m=\u001b[39;49m\u001b[43mheaders\u001b[49m\u001b[43m,\u001b[49m\u001b[43m \u001b[49m\u001b[38;5;241;43m*\u001b[39;49m\u001b[38;5;241;43m*\u001b[39;49m\u001b[43murlopen_kw\u001b[49m\n\u001b[0;32m    120\u001b[0m \u001b[43m    \u001b[49m\u001b[43m)\u001b[49m\n",
      "File \u001b[1;32ml:\\Programms\\Python\\Lib\\site-packages\\urllib3\\_request_methods.py:217\u001b[0m, in \u001b[0;36mRequestMethods.request_encode_body\u001b[1;34m(self, method, url, fields, headers, encode_multipart, multipart_boundary, **urlopen_kw)\u001b[0m\n\u001b[0;32m    213\u001b[0m     extra_kw[\u001b[38;5;124m\"\u001b[39m\u001b[38;5;124mheaders\u001b[39m\u001b[38;5;124m\"\u001b[39m]\u001b[38;5;241m.\u001b[39msetdefault(\u001b[38;5;124m\"\u001b[39m\u001b[38;5;124mContent-Type\u001b[39m\u001b[38;5;124m\"\u001b[39m, content_type)\n\u001b[0;32m    215\u001b[0m extra_kw\u001b[38;5;241m.\u001b[39mupdate(urlopen_kw)\n\u001b[1;32m--> 217\u001b[0m \u001b[38;5;28;01mreturn\u001b[39;00m \u001b[38;5;28;43mself\u001b[39;49m\u001b[38;5;241;43m.\u001b[39;49m\u001b[43murlopen\u001b[49m\u001b[43m(\u001b[49m\u001b[43mmethod\u001b[49m\u001b[43m,\u001b[49m\u001b[43m \u001b[49m\u001b[43murl\u001b[49m\u001b[43m,\u001b[49m\u001b[43m \u001b[49m\u001b[38;5;241;43m*\u001b[39;49m\u001b[38;5;241;43m*\u001b[39;49m\u001b[43mextra_kw\u001b[49m\u001b[43m)\u001b[49m\n",
      "File \u001b[1;32ml:\\Programms\\Python\\Lib\\site-packages\\urllib3\\poolmanager.py:444\u001b[0m, in \u001b[0;36mPoolManager.urlopen\u001b[1;34m(self, method, url, redirect, **kw)\u001b[0m\n\u001b[0;32m    442\u001b[0m     response \u001b[38;5;241m=\u001b[39m conn\u001b[38;5;241m.\u001b[39murlopen(method, url, \u001b[38;5;241m*\u001b[39m\u001b[38;5;241m*\u001b[39mkw)\n\u001b[0;32m    443\u001b[0m \u001b[38;5;28;01melse\u001b[39;00m:\n\u001b[1;32m--> 444\u001b[0m     response \u001b[38;5;241m=\u001b[39m \u001b[43mconn\u001b[49m\u001b[38;5;241;43m.\u001b[39;49m\u001b[43murlopen\u001b[49m\u001b[43m(\u001b[49m\u001b[43mmethod\u001b[49m\u001b[43m,\u001b[49m\u001b[43m \u001b[49m\u001b[43mu\u001b[49m\u001b[38;5;241;43m.\u001b[39;49m\u001b[43mrequest_uri\u001b[49m\u001b[43m,\u001b[49m\u001b[43m \u001b[49m\u001b[38;5;241;43m*\u001b[39;49m\u001b[38;5;241;43m*\u001b[39;49m\u001b[43mkw\u001b[49m\u001b[43m)\u001b[49m\n\u001b[0;32m    446\u001b[0m redirect_location \u001b[38;5;241m=\u001b[39m redirect \u001b[38;5;129;01mand\u001b[39;00m response\u001b[38;5;241m.\u001b[39mget_redirect_location()\n\u001b[0;32m    447\u001b[0m \u001b[38;5;28;01mif\u001b[39;00m \u001b[38;5;129;01mnot\u001b[39;00m redirect_location:\n",
      "File \u001b[1;32ml:\\Programms\\Python\\Lib\\site-packages\\urllib3\\connectionpool.py:790\u001b[0m, in \u001b[0;36mHTTPConnectionPool.urlopen\u001b[1;34m(self, method, url, body, headers, retries, redirect, assert_same_host, timeout, pool_timeout, release_conn, chunked, body_pos, preload_content, decode_content, **response_kw)\u001b[0m\n\u001b[0;32m    787\u001b[0m response_conn \u001b[38;5;241m=\u001b[39m conn \u001b[38;5;28;01mif\u001b[39;00m \u001b[38;5;129;01mnot\u001b[39;00m release_conn \u001b[38;5;28;01melse\u001b[39;00m \u001b[38;5;28;01mNone\u001b[39;00m\n\u001b[0;32m    789\u001b[0m \u001b[38;5;66;03m# Make the request on the HTTPConnection object\u001b[39;00m\n\u001b[1;32m--> 790\u001b[0m response \u001b[38;5;241m=\u001b[39m \u001b[38;5;28;43mself\u001b[39;49m\u001b[38;5;241;43m.\u001b[39;49m\u001b[43m_make_request\u001b[49m\u001b[43m(\u001b[49m\n\u001b[0;32m    791\u001b[0m \u001b[43m    \u001b[49m\u001b[43mconn\u001b[49m\u001b[43m,\u001b[49m\n\u001b[0;32m    792\u001b[0m \u001b[43m    \u001b[49m\u001b[43mmethod\u001b[49m\u001b[43m,\u001b[49m\n\u001b[0;32m    793\u001b[0m \u001b[43m    \u001b[49m\u001b[43murl\u001b[49m\u001b[43m,\u001b[49m\n\u001b[0;32m    794\u001b[0m \u001b[43m    \u001b[49m\u001b[43mtimeout\u001b[49m\u001b[38;5;241;43m=\u001b[39;49m\u001b[43mtimeout_obj\u001b[49m\u001b[43m,\u001b[49m\n\u001b[0;32m    795\u001b[0m \u001b[43m    \u001b[49m\u001b[43mbody\u001b[49m\u001b[38;5;241;43m=\u001b[39;49m\u001b[43mbody\u001b[49m\u001b[43m,\u001b[49m\n\u001b[0;32m    796\u001b[0m \u001b[43m    \u001b[49m\u001b[43mheaders\u001b[49m\u001b[38;5;241;43m=\u001b[39;49m\u001b[43mheaders\u001b[49m\u001b[43m,\u001b[49m\n\u001b[0;32m    797\u001b[0m \u001b[43m    \u001b[49m\u001b[43mchunked\u001b[49m\u001b[38;5;241;43m=\u001b[39;49m\u001b[43mchunked\u001b[49m\u001b[43m,\u001b[49m\n\u001b[0;32m    798\u001b[0m \u001b[43m    \u001b[49m\u001b[43mretries\u001b[49m\u001b[38;5;241;43m=\u001b[39;49m\u001b[43mretries\u001b[49m\u001b[43m,\u001b[49m\n\u001b[0;32m    799\u001b[0m \u001b[43m    \u001b[49m\u001b[43mresponse_conn\u001b[49m\u001b[38;5;241;43m=\u001b[39;49m\u001b[43mresponse_conn\u001b[49m\u001b[43m,\u001b[49m\n\u001b[0;32m    800\u001b[0m \u001b[43m    \u001b[49m\u001b[43mpreload_content\u001b[49m\u001b[38;5;241;43m=\u001b[39;49m\u001b[43mpreload_content\u001b[49m\u001b[43m,\u001b[49m\n\u001b[0;32m    801\u001b[0m \u001b[43m    \u001b[49m\u001b[43mdecode_content\u001b[49m\u001b[38;5;241;43m=\u001b[39;49m\u001b[43mdecode_content\u001b[49m\u001b[43m,\u001b[49m\n\u001b[0;32m    802\u001b[0m \u001b[43m    \u001b[49m\u001b[38;5;241;43m*\u001b[39;49m\u001b[38;5;241;43m*\u001b[39;49m\u001b[43mresponse_kw\u001b[49m\u001b[43m,\u001b[49m\n\u001b[0;32m    803\u001b[0m \u001b[43m\u001b[49m\u001b[43m)\u001b[49m\n\u001b[0;32m    805\u001b[0m \u001b[38;5;66;03m# Everything went great!\u001b[39;00m\n\u001b[0;32m    806\u001b[0m clean_exit \u001b[38;5;241m=\u001b[39m \u001b[38;5;28;01mTrue\u001b[39;00m\n",
      "File \u001b[1;32ml:\\Programms\\Python\\Lib\\site-packages\\urllib3\\connectionpool.py:536\u001b[0m, in \u001b[0;36mHTTPConnectionPool._make_request\u001b[1;34m(self, conn, method, url, body, headers, retries, timeout, chunked, response_conn, preload_content, decode_content, enforce_content_length)\u001b[0m\n\u001b[0;32m    534\u001b[0m \u001b[38;5;66;03m# Receive the response from the server\u001b[39;00m\n\u001b[0;32m    535\u001b[0m \u001b[38;5;28;01mtry\u001b[39;00m:\n\u001b[1;32m--> 536\u001b[0m     response \u001b[38;5;241m=\u001b[39m \u001b[43mconn\u001b[49m\u001b[38;5;241;43m.\u001b[39;49m\u001b[43mgetresponse\u001b[49m\u001b[43m(\u001b[49m\u001b[43m)\u001b[49m\n\u001b[0;32m    537\u001b[0m \u001b[38;5;28;01mexcept\u001b[39;00m (BaseSSLError, \u001b[38;5;167;01mOSError\u001b[39;00m) \u001b[38;5;28;01mas\u001b[39;00m e:\n\u001b[0;32m    538\u001b[0m     \u001b[38;5;28mself\u001b[39m\u001b[38;5;241m.\u001b[39m_raise_timeout(err\u001b[38;5;241m=\u001b[39me, url\u001b[38;5;241m=\u001b[39murl, timeout_value\u001b[38;5;241m=\u001b[39mread_timeout)\n",
      "File \u001b[1;32ml:\\Programms\\Python\\Lib\\site-packages\\urllib3\\connection.py:461\u001b[0m, in \u001b[0;36mHTTPConnection.getresponse\u001b[1;34m(self)\u001b[0m\n\u001b[0;32m    458\u001b[0m \u001b[38;5;28;01mfrom\u001b[39;00m \u001b[38;5;21;01m.\u001b[39;00m\u001b[38;5;21;01mresponse\u001b[39;00m \u001b[38;5;28;01mimport\u001b[39;00m HTTPResponse\n\u001b[0;32m    460\u001b[0m \u001b[38;5;66;03m# Get the response from http.client.HTTPConnection\u001b[39;00m\n\u001b[1;32m--> 461\u001b[0m httplib_response \u001b[38;5;241m=\u001b[39m \u001b[38;5;28;43msuper\u001b[39;49m\u001b[43m(\u001b[49m\u001b[43m)\u001b[49m\u001b[38;5;241;43m.\u001b[39;49m\u001b[43mgetresponse\u001b[49m\u001b[43m(\u001b[49m\u001b[43m)\u001b[49m\n\u001b[0;32m    463\u001b[0m \u001b[38;5;28;01mtry\u001b[39;00m:\n\u001b[0;32m    464\u001b[0m     assert_header_parsing(httplib_response\u001b[38;5;241m.\u001b[39mmsg)\n",
      "File \u001b[1;32ml:\\Programms\\Python\\Lib\\http\\client.py:1386\u001b[0m, in \u001b[0;36mHTTPConnection.getresponse\u001b[1;34m(self)\u001b[0m\n\u001b[0;32m   1384\u001b[0m \u001b[38;5;28;01mtry\u001b[39;00m:\n\u001b[0;32m   1385\u001b[0m     \u001b[38;5;28;01mtry\u001b[39;00m:\n\u001b[1;32m-> 1386\u001b[0m         \u001b[43mresponse\u001b[49m\u001b[38;5;241;43m.\u001b[39;49m\u001b[43mbegin\u001b[49m\u001b[43m(\u001b[49m\u001b[43m)\u001b[49m\n\u001b[0;32m   1387\u001b[0m     \u001b[38;5;28;01mexcept\u001b[39;00m \u001b[38;5;167;01mConnectionError\u001b[39;00m:\n\u001b[0;32m   1388\u001b[0m         \u001b[38;5;28mself\u001b[39m\u001b[38;5;241m.\u001b[39mclose()\n",
      "File \u001b[1;32ml:\\Programms\\Python\\Lib\\http\\client.py:325\u001b[0m, in \u001b[0;36mHTTPResponse.begin\u001b[1;34m(self)\u001b[0m\n\u001b[0;32m    323\u001b[0m \u001b[38;5;66;03m# read until we get a non-100 response\u001b[39;00m\n\u001b[0;32m    324\u001b[0m \u001b[38;5;28;01mwhile\u001b[39;00m \u001b[38;5;28;01mTrue\u001b[39;00m:\n\u001b[1;32m--> 325\u001b[0m     version, status, reason \u001b[38;5;241m=\u001b[39m \u001b[38;5;28;43mself\u001b[39;49m\u001b[38;5;241;43m.\u001b[39;49m\u001b[43m_read_status\u001b[49m\u001b[43m(\u001b[49m\u001b[43m)\u001b[49m\n\u001b[0;32m    326\u001b[0m     \u001b[38;5;28;01mif\u001b[39;00m status \u001b[38;5;241m!=\u001b[39m CONTINUE:\n\u001b[0;32m    327\u001b[0m         \u001b[38;5;28;01mbreak\u001b[39;00m\n",
      "File \u001b[1;32ml:\\Programms\\Python\\Lib\\http\\client.py:286\u001b[0m, in \u001b[0;36mHTTPResponse._read_status\u001b[1;34m(self)\u001b[0m\n\u001b[0;32m    285\u001b[0m \u001b[38;5;28;01mdef\u001b[39;00m \u001b[38;5;21m_read_status\u001b[39m(\u001b[38;5;28mself\u001b[39m):\n\u001b[1;32m--> 286\u001b[0m     line \u001b[38;5;241m=\u001b[39m \u001b[38;5;28mstr\u001b[39m(\u001b[38;5;28;43mself\u001b[39;49m\u001b[38;5;241;43m.\u001b[39;49m\u001b[43mfp\u001b[49m\u001b[38;5;241;43m.\u001b[39;49m\u001b[43mreadline\u001b[49m\u001b[43m(\u001b[49m\u001b[43m_MAXLINE\u001b[49m\u001b[43m \u001b[49m\u001b[38;5;241;43m+\u001b[39;49m\u001b[43m \u001b[49m\u001b[38;5;241;43m1\u001b[39;49m\u001b[43m)\u001b[49m, \u001b[38;5;124m\"\u001b[39m\u001b[38;5;124miso-8859-1\u001b[39m\u001b[38;5;124m\"\u001b[39m)\n\u001b[0;32m    287\u001b[0m     \u001b[38;5;28;01mif\u001b[39;00m \u001b[38;5;28mlen\u001b[39m(line) \u001b[38;5;241m>\u001b[39m _MAXLINE:\n\u001b[0;32m    288\u001b[0m         \u001b[38;5;28;01mraise\u001b[39;00m LineTooLong(\u001b[38;5;124m\"\u001b[39m\u001b[38;5;124mstatus line\u001b[39m\u001b[38;5;124m\"\u001b[39m)\n",
      "File \u001b[1;32ml:\\Programms\\Python\\Lib\\socket.py:706\u001b[0m, in \u001b[0;36mSocketIO.readinto\u001b[1;34m(self, b)\u001b[0m\n\u001b[0;32m    704\u001b[0m \u001b[38;5;28;01mwhile\u001b[39;00m \u001b[38;5;28;01mTrue\u001b[39;00m:\n\u001b[0;32m    705\u001b[0m     \u001b[38;5;28;01mtry\u001b[39;00m:\n\u001b[1;32m--> 706\u001b[0m         \u001b[38;5;28;01mreturn\u001b[39;00m \u001b[38;5;28;43mself\u001b[39;49m\u001b[38;5;241;43m.\u001b[39;49m\u001b[43m_sock\u001b[49m\u001b[38;5;241;43m.\u001b[39;49m\u001b[43mrecv_into\u001b[49m\u001b[43m(\u001b[49m\u001b[43mb\u001b[49m\u001b[43m)\u001b[49m\n\u001b[0;32m    707\u001b[0m     \u001b[38;5;28;01mexcept\u001b[39;00m timeout:\n\u001b[0;32m    708\u001b[0m         \u001b[38;5;28mself\u001b[39m\u001b[38;5;241m.\u001b[39m_timeout_occurred \u001b[38;5;241m=\u001b[39m \u001b[38;5;28;01mTrue\u001b[39;00m\n",
      "\u001b[1;31mKeyboardInterrupt\u001b[0m: "
     ]
    }
   ],
   "source": [
    "parsers.get_avito('BMW x6 2020')"
   ]
  },
  {
   "cell_type": "code",
   "execution_count": 20,
   "metadata": {},
   "outputs": [
    {
     "data": {
      "text/plain": [
       "'https://www.avito.ru/moskovskaya_oblast_krasnogorsk/avtomobili/bmw_x6_3.0_at_2020_73_836_km_3562307322'"
      ]
     },
     "execution_count": 20,
     "metadata": {},
     "output_type": "execute_result"
    }
   ],
   "source": [
    "parsers.driver.find_element(By.CLASS_NAME, 'iva-item-title-py3i_').find_element(By.CSS_SELECTOR, 'a.styles-module-root-QmppR.styles-module-root_noVisited-aFA10').get_attribute('href')"
   ]
  },
  {
   "cell_type": "code",
   "execution_count": 15,
   "metadata": {},
   "outputs": [
    {
     "name": "stdout",
     "output_type": "stream",
     "text": [
      "BMW X6 3.0 AT, 2020, 73 836 км\n",
      "9 360 000 ₽\n",
      "Написать\n",
      "Показать телефон\n",
      "73 836 км, 3 AT (340 л.с.), внедорожник, полный, бензин\n",
      "- У авто было 2 владельца. - Птс оригинал. - Минимальный пробег. - Обслуживание у Официального дилера. - Полный комплект ключей и документов. - Комплектация Luxury. Major Expert — Лидер По Продажам Автомобилей С Пробегом В Москве. Уважаемые клиенты, мы поставили перед собой цель, сделать процесс приобретения автомобиля с пробегом для вас максимально комфортным, безопасным и выгодным. Вот уже на протяжении почти 25 лет движемся в этом направлении и стараемся предугадать ваши желания. Покупая автомобиль в Major Expert, вы получаете: — Скидки при Trade In до 200 000 р. Индивидуальный подход. — Каждый автомобиль диагностируется перед выставлением в продажу. Мы тщательно отбираем только лучшие автомобили с пробегом специально для вас. — Юридическую чистоту не на словах, а прописанную в договоре. — Программу защиты от поломок Major Plus (гарантия Major на двигатель, коробку передач и прочие дорогостоящие агрегаты). — Огромный выбор автомобилей. Более 5000 автомобилей на любой вкус. — Возможность покупки в кредит. Более 15 банков партнеров с лучшими условиями. — Возможность покупки в лизинг. Своя лизинговая компания с гибкими условиями. — Возможность дистанционной покупки из дома и доставки по России. — Видео обзор автомобиля. Позвоните нам и мы поможем вам сделать правильный выбор. 21\" легкосплавные колесные диски. 2-х зонный климат-контроль. Abs. Водительская подушка безопасности. Задний парктроник. Зеленый. Камера заднего вида. Кожа. Круиз-контроль. Обогрев передних сидений. Обогрев рулевого колеса. Панорамная крыша. Передний парктроник. Противотуманные фары. Светодиодные фары. Система бесключевого доступа. Система курсовой устойчивости (стабилизации). Система старт-стоп. Цветной дисплей. Электропривод зад. Двери. Электропривод зеркал. Major Select. Мы рады объявить о запуске нашей новой программы — Major Expert Select, которая предлагает самые лучшие автомобили для наших клиентов. Строгие критерии отбора предназначены для того, чтобы наши автомобили прослужили своим новым владельцам долгое время. В Major Expert Select предоставлены автомобили с минимальным годовым пробегом, идеальным техническим и кузовным состоянием. Все наши автомобили, проходящие по программе Major Expert Select обслуживались исключительно у официальных дилеров и имеют 100% сервисную историю. Наше стремление к совершенству отражено в каждом аспекте нашей программы, от автомобилей, которые мы предлагаем, до обслуживания клиентов, которое мы предоставляем. Мы знаем, что наши клиенты требуют самого лучшего, и мы стремимся предоставить это.\n",
      "г.о. Красногорск\n",
      "9 часов назад\n",
      "Major Expert\n",
      "4,8\n",
      "3 822 отзыва\n",
      "Проверенный партнёр\n",
      "BMW X6 3.0 AT, 2020, 97 200 км\n",
      "7 999 000 ₽\n",
      "Написать\n",
      "Показать телефон\n",
      "97 200 км, 3.0 AT (400 л.с.), внедорожник, полный, дизель\n",
      "Дополнительная выгода при покупке автомобиля в кредит до 400 000 рублей*. Дополнительная скидка до 400 000 рублей при покупке, а/м по программе Trade-In (обмен на ваш автомобиль). Автомобиль привезен из Германии. Без пробега по РФ Все пошлины оплачены. Эптс получен. Максимальная комплектация. М пакет (обвес, салон, диски, тормозная система). Люк. Панорамная крыша. Память сидений водителя. Спортивные передние сидения. Камера 360. Навигация. Голосовое управление. Адаптивный круиз контроль. Электрорегулировка руля с памятью. Ассистент парковки. Датчик дождя, света. Подрулевые лепестки переключения передач. Многозонный климат контроль. Подогрев всех сидений. Вентиляция передних. Обогрев рулевого колеса и многое другое. Преимущества покупки автомобиля в нашем автосалоне: Индивидуальные условия покупки автомобиля. 1 год технической гарантии на все автомобили. Документальная гарантия юридической чистоты сделки. Диагностика и предпродажная подготовка каждого автомобиля. Бесплатный тест-драйв. Специальные условия страхования. Быстрое и прозрачное оформление. Персональный подход к каждому клиенту. Быстрый выкуп вашего автомобиля — наличный и безналичный расчет. Консультации от экспертов, работающих для вас. Работаем ежедневно без выходных и праздников. Выгодные условия автокредитования: Кредитование со сниженной процентной ставкой — партнерство с ведущими банками. Любой начальный взнос по вашему выбору, включая 0%. Более 23 кредитных программ; Минимальный пакет документов — паспорт и вод. Удостоверение; Срок кредита от 6 месяцев до 7 лет. Сумма кредита от 300 000 руб. До 7 000 000 рублей. Выгода до 600,000 рублей. Второй комплект резины в подарок. А так же работаем под заказ. Привезем для Вас новый или б/у автомобиль из за рубежа (Европа, Корея, Китай, Америка, Оаэ). *Условия акции уточняйте у менеджеров.\n",
      "Москва\n",
      "15 часов назад\n",
      "PRIME-PREMIUM\n",
      "5,0\n",
      "25 отзывов\n",
      "Проверенный партнёр\n",
      "BMW X6 3.0 AT, 2020, 46 980 км\n",
      "10 280 000 ₽\n",
      "Собственник\n",
      "Написать\n",
      "Показать телефон\n",
      "46 980 км, 3.0 AT (249 л.с.), внедорожник, полный, дизель\n",
      "Прoдaю Х6. Aвтo на Пнeвмo, не сравнивайте комплектации на пружинах. С интегpальнoй подpуливаемой зaдней осью. Комплектация M Sрort Рro, Shadow Line aвтo купленo в сaлoнe 2021 гoдa, нa гaрантии. Мaшина в идeальном сocтoянии, Без Дtп, без oкpасов и вмятин. TO все у диллера, eсть вce зaказ нapяды, кaждые 8-10,000 км. Meнялиcь все фильтpа, на машине не экономили, дополнительно установлено в установочном центре: Андроид, можно пользоваться Яндекс навигацией с пробками, смотреть Ютюб, фильмы и многое другое в движении. Также установлены омыватели камер перед/ зад., очень удобно, камеры 360, черные зеркала М ки с полями слепых зон. Колеса лето -R21 разноширокие, зима -R20 шипы, идеальное состояние. Лазерные фары, проекция на стекло с обнаружением камер и многое еще, шумоизоляция, всего не перечислить. Авто в броне пленке, Lumar, передняя часть, пороги, расширители арки колес, фары, бампера перед/зад. Авто реально ухожено и без вложений, лобовое стекло оригинал без трещин. Три комплекта Ковров, два комплекта колес на дисках. Четвертая машина в семье, без обременений В машине есть все! Без вложений.\n",
      "Московская обл., Химки\n",
      "5 часов назад\n",
      "BMW X6 3.0 AT, 2020, 55 000 км\n",
      "8 990 000 ₽\n",
      "Написать\n",
      "Показать телефон\n",
      "55 000 км, 3 AT (400 л.с.), внедорожник, полный, дизель\n",
      "Авто только пригнан из Германии! Растаможен! Без пробега по РФ. Вы будете первым собственником по РФ! Эптс будет оформлен на Вас! Автомобиль находится в Идеальном Состоянии в полном заводском окрасе. В Дтп не участвовал. Состояние нового автомобиля. Прошел предпродажное и полное сервисное техническое обслуживание в Германии. Возможна продажа в кредит! Цвет белый перламутр! Салон вишня! Мощность 400 л, с! М-обвес, М-тормоза, М-руль! Активный М-выхлоп! Спорт Акпп! Спорт дифференциал! Бесключевой доступ! Датчики Слепых зон! Беспроводной Car play! Беспроводная зарядка! Расширенная отделка кожей! Подогревы сидений! Активный круиз Professional! Удержание в полосе! Торможение перед препятствием! Автономное отопление плюс кондиционирование! Лазерные фары! Автомат дальнего света! Камера 360 +3D обзор! Колеса R21(Резина Зима-Лето)! Проекция на лобовое стекло! Ассистент парковки! Открытие и закрытие багажника взмахом ноги! Ассистент заднего хода! Смарт Ключ с дисплеем! Интегральное активное рулевое управление! Спортивная ходовая часть — M-Professional! Музыкальная стереосистема Harman Kardon! Система управления жестами Bmw! Зимний пакет! Подруливающая задняя ось! Карбон в салоне! В наличии три ключа! И многое другое, на все интересующие вопросы отвечу по телефону!\n",
      "Ставропольский край, Ставрополь\n",
      "13 часов назад\n",
      "......\n",
      "5,0\n",
      "1 отзыв\n",
      "Проверенный партнёр\n",
      "BMW X6 3.0 AT, 2020, 42 600 км\n",
      "9 300 000 ₽\n",
      "Только на Авито\n",
      "Написать\n",
      "Показать телефон\n",
      "42 600 км, 3.0 AT (400 л.с.), внедорожник, полный, дизель\n",
      "- Aвтомобиль в Наличии! - Пpивезeн из Европы и рaстaможен! Ввoз октябрь 2023. - Тoпoвaя кoмплeктaция М50D 400 л. С., с навигацией, сиcтемой рacпoзнавания знакoв, cиcтeмoй активного тoрмoжения, Aвтопилотoм, лaзepами в идеальном состоянии. - Сoстояниe aвтомoбиля категорически отличaeтся от состoяния подобныx мaшин c анaлoгичным пробегом экcплуатируемых в РФ. Состояние дорог, климат, качество обслуживания, качество сборки автомобиля. - Полная история обслуживания и ремонта, можно проверить в дилерской базе в РФ. Информация в наличии, предоставлю по требованию. - Приветствуется ваша диагностика в любом сервисном центре. - Возможен обмен на ваш автомобиль. Комплектация: - М пакет. - Спортивная выхлопная система M. - 22 л/с диск сдвоенные спицы. - Спортивные тормоза M. - M спортивный дифференциал. - Интегральное активное рулевое управление. - Спортивная ходовая часть M Professional. - Комфортный доступ. - Bmw ключ с дисплеем. - Остекление с улучшенной звукоизоляцией. - Подстаканник с поддержкой температуры. - Сиденье повышенного комфорта с памятью положения. - Хрусталь. - Автопилот. - потолок Антрацит. - лазерные фары. - harman/kardon. - считывание дорожных знаков. - контроль слепых зон. - shadow line. - проекция. - автоматический дальний. - контурная подсветка. - камера 360. - обогрев руля. - вентиляция сидений. - управление жестам. - бесключевой доступ. - Аэродинамический комплект М Technic. - Bmw Live кокпит. - Система парковки. - Электропривод багажника. Окрасы. - отсутствуют.\n",
      "Московская обл., г.о. Красногорск, пос. Ильинское-Усово\n",
      "12 часов назад\n",
      "Илья\n",
      "4,7\n",
      "13 отзывов\n",
      "Проверенный партнёр\n",
      "BMW X6 3.0 AT, 2020, 65 000 км\n",
      "8 240 000 ₽\n",
      "Только на Авито\n",
      "Онлайн-показ\n",
      "Написать\n",
      "Показать телефон\n",
      "65 000 км, 3.0 AT (249 л.с.), внедорожник, полный, дизель\n",
      "- Автомобиль в наличии. - Подтвержденный пробег историей обслуживания у официального дилера (Air). - Пригнан из Германии, в идеальном состоянии, полностью обслужен. Вы будете первым собственником в РФ! Подтвержденный пробег, дилерским обслуживанием, готов на любые проверки! - Комплектация: М-пакет, М-тормоза, фары bmw laser, панорамная крыша, проекционное лобовое стекло, carplay, управление жестами, камеры 360, хрусталь Swarovski, слепые зоны, адаптивный круиз контроль, 4зонный климат контроль, подогревы всех сидений и вентиляция всех сидений, комфортные сидений, адаптивные фары Bmw laser, колеса r 22 (742 стиль). - Все вопросы по телефону! - Торг строго у капота!\n",
      "Ростовская обл., Шахты\n",
      "7 часов назад\n",
      "Владимир\n",
      "5,0\n",
      "36 отзывов\n",
      "Проверенный партнёр\n",
      "BMW X6 3.0 AT, 2020, 33 760 км\n",
      "8 590 000 ₽\n",
      "Только на Авито\n",
      "Без ДТП\n",
      "Написать\n",
      "Показать телефон\n",
      "33 760 км, 3 AT (265 л.с.), внедорожник, полный, дизель\n",
      "В наличии! В Краснодаре. Bmw X6 30d M Sport. 2020 год. Пробег 33 570 км. Цвет — белый металлик. Салон — кожа, коричневый. Автомобиль в идеальном состоянии, как внешне так и технически. Кузов без сколов, царапин, вмятин. Салон как новый. Автомобиль не требует ни каких вложений, пройдено ТО. Следующее через 8000 км. Предоставлю видеообзор ( по запросу). Очень богатая комплектация. - Пневмо подвеска. - М Пакет. - Панорамная крыша. - Комфортные сиденья с вентиляцией. - Камеры 360. - Адаптивные фары. - Абсолютно все системы помощи водителю ( адаптивный круиз, слепые зоны, контроль полосы, экстренное положение и т. Д). - Проекция на лобовое стекло. - Комфортный доступ. - Подогревы всех сидений. - Климат 4 зоны. - Беспроводная зарядка. - И многое другое. Цена включает утиль сбор, ничего доплачивать не нужно. Окажем полное сопровождение для оформление в Гибдд.\n",
      "Краснодарский край, Краснодар\n",
      "14 часов назад\n",
      "BMW X6 3.0 AT, 2020, 69 320 км\n",
      "8 490 000 ₽\n",
      "Написать\n",
      "Показать телефон\n",
      "69 320 км, 3.0 AT (265 л.с.), внедорожник, полный, дизель\n",
      "Автомобиль из Германии, отличное состояние. Полностью обслужен в Германии у официального дилера, полная история обслуживания. Ептс получен, готов к постановке на учет. Самая топовая комплектация: подруливающая задняя ось, спортивная выхлопная система M, спортивные тормоза M, M спортивный дифференциал, спортивная ходовая часть M Professional, спортивный комплект стиль M, Bmw Live кокпит Professional, кожаное рулевое колесо в M-стиле, аэродинамический комплект M Technic, диски 22\", интегральное активное рулевое управление, комфортный доступ, автодоводчик дверей, Bmw решетка радиатора iconic glow, двойное остекление, панорамная крыша с электроприводом, передние комфортные сиденья с памятью/вентиляцией/массажем, обогрев всех сидений, потолок алькантара, климат-контроль 4 зоны, лазерные фары Bmw Laserlicht, система парковки Plus, проекция на лобовое, аудиосистема Harman/Kardon, shadow-Line с зеркальным блеском, пакет «Зимняя радость». Возможен кредит без дополнительных комиссий, обмен(trade in), лизинг, бензналичный расчет.\n",
      "Москва\n",
      "3 часа назад\n",
      "Mosfilm Auto\n",
      "4,9\n",
      "51 отзыв\n",
      "Проверенный партнёр\n",
      "BMW X6 3.0 AT, 2021, 49 700 км\n",
      "11 600 000 ₽\n",
      "Только на Авито\n",
      "Написать\n",
      "Показать телефон\n",
      "49 700 км, 3.0 AT (400 л.с.), внедорожник, полный, дизель\n",
      "Цена Указана ЗА Наличный Расчет! Возможна Продажа С С Полным Ндс! Автомобиль В Наличии! АЦ Альянсгарант предоставляет. - 1 год гарантии на силовые агрегаты. Что это значит? Мы предоставляем гарантию на 1 год на двигатель и коробку передач. - 1 год гарантии цены. Что это значит? Выкупим ваш автомобиль в течении гарантированного года по той же цене по которой вы его приобрели, при обмене на автомобиль из нашего автопарка. Возможна Продажа В Лизинг! Возможна Продажа с полным Ндс! Внимание! Гарантируем ежемесячный платеж дешевле, чем у кого-либо, в случае не выполнения условии готовы возместить разницу! Рассмотрим обмен на спецтехнику! АЦ Альянсгарант гaрaнтирует юpидичеcкую чистоту на вce cвoи aвтoмобили 100%! Поможем сэкономить ваше время на постановке автомобиля на учет! Возможна продажа автомобиля с красивым номером! Продажа номеров, покупка номеров, красивый номер, Гос номер, номер на авто. Автомобиль В Наличии! Автомобиль в идеальном состояний! Не битый не крашенный! Родной пробег! Bmw X6 50D 400 л. С. Год выпуска: 2020. Объем двигателя: 3.0. Мощность: 400 л. С. Тип двигателя: Дизель. Привод: Полный. Трансмиссия: Автомат. Цвет: Черный. Оплата ЗА Автомобиль Возможна По Безналичному Расчету, Также По Терминалу! А Также Реализуем Новые А/М Абсолютно Любой Марки И Любой Комплектации На Выгодных Для Вас Условиях! Рассмотрим Все Варианты Обмена! Торг Уместен ЗА Наличный Расчет, Либо При Обмене Вашего Автомобиля! Рассрочка без участия банков. (30% первоначальный взнос, максимальный срок рассрочки 2 года необходимые документы: паспорт РФ, инн, снилс, справки о доходах). Рассрочка предоставляется только жителям республики Татарстан. Выкуп Авто на выгодных условиях! Автообмен, Прием На Комиссию совершенно бесплатно. (бесплатное размещение на всех интернет ресурсах по продаже автомобилей). Круглосуточная охраняемая парковка (видеонаблюдение). А также предоставляем полный спектр услуг по предпродажной подготовке автомобиля. (химчистка салона, полировка кузова и т. Д.). Автоподбор (быстро, профессионально, качественно подберем автомобиль по Вашим требованиям). Режим работы автосалона с 8:30-19:00! Ежедневно!\n",
      "Республика Татарстан, Набережные Челны\n",
      "3 дня назад\n",
      "автоцентр АЛЬЯНСГАРАНТ автомобили с пробегом\n",
      "5,0\n",
      "419 отзывов\n",
      "BMW X6 M 4.4 AT, 2020, 25 393 км\n",
      "12 694 000 ₽\n",
      "Соответствует оценке\n",
      "Написать\n",
      "Показать телефон\n",
      "25 393 км, 4.4 AT (625 л.с.), внедорожник, полный, бензин\n",
      "Вmw X6М Competition. Один владелец. Бережная эксплуатация в Краснодарском Крае. Автомобиль в заводском окрасе. Полностью обслужен. Оригинальный пробег. Комплектация: Панoрамная крыша Sky Lounge. Дaтчики слeпых зoн. Kaмеры кpуговогo oбзopa. Вентиляция сидений. Аудиосистемa Bowers & Wilkins. Проeкция на лобoвoe cтекло. Оценим Ваш автомобиль за 20 минут и предложим до % от рыночной стоимости! Выкупим Ваш авто сразу в день обращения. Гарантированно предложим условия на приобретение в трейд-ин или при покупке в кредит! Ваши преимущества приобретения автомобиля в Ftcars. –Только честные автомобили в наличии. - Комплексная диагностика каждого автомобиля по 43 пунктам. - Юридическая чистота каждой сделки. - Специальные условия при покупке автомобиля в кредит, и обмене его на Ваш авто. - Программа Trade-in (с возможностью доплаты в обе стороны). - Любая форма оплаты. - Прием Вашего автомобиля на комиссию. - Первоначальный взнос от 0%. - Расчет кредита всего по двум документам. - Одобрение кредита за 1 час в 15 банках партнерах. - Выдача автомобиля день в день. - Возможность оформления Каско, Осаго, Гто. Птс оригинал. Место осмотра. Осмотреть автомобиль можно по адресу: Краснодарский край, Сочи, улица Гагарина 78. Птс оригинал. Место осмотра. Осмотреть автомобиль можно по адресу: Краснодарский край, Сочи, улица Гагарина 78. Комплектация «X6 M Competition»: Активная безопасность: — Антиблокировочная система. — Система курсовой устойчивости. — Система помощи при экстренном торможении. — Датчик давления в шинах. Пассивная безопасность: — Подушки безопасности водителя. — Подушки безопасности пассажира. — Боковые передние и задние подушки безопасности. — Оконные шторки безопасности. — Блокировка замков задних дверей. — Система крепления детских автокресел. Противоугонная система: — Дистанционный запуск двигателя. — Иммобилайзер. — Центральный замок. Помощь при вождении: — Бортовой компьютер. — Адаптивный круиз-контроль. — Парктроник передний и задний. — Камера 360°. — Система помощи при старте в гору. — Система управления дальним светом. — Датчик света. — Датчик дождя. Комфорт: — Активный усилитель руля. — Активная подвеска. — Запуск двигателя с кнопки. — Система «старт-стоп». — Система доступа без ключа. — Доводчик дверей. — Открытие багажника без помощи рук. — Регулировка руля. — Электрорегулировка сиденья водителя с памятью положения. — Электрорегулировка сиденья пассажира. — Электростеклоподъемники передние и задние. — Электропривод зеркал. — Электропривод крышки багажника. — Декоративное освещение салона. Управление климатом и обогрев: — Климат-контроль 2-зонный. — Вентиляция сидений водителя и пассажира. — Подогрев сидений водителя и пассажира. — Подогрев руля. — Обогрев зеркал. — Обогрев форсунок стеклоомывателей. Мультимедиа и навигация: — Навигационная система. — Usb. — Функция Apple carplay. — Голосовое управление. — Bluetooth. — Aux. — Hi-Fi. — Проекционный дисплей. — Мультифункциональное рулевое колесо. — Розетка 12V. Салон и интерьер: — Кожаная обивка салона. — Отделка потолка черного цвета. — Кожаный руль. — Панорамная крыша. — Спортивные передние сидения. — Складывающееся заднее сидение. — Третий задний подголовник. — Передний центральный подлокотник. — Подрулевые лепестки переключения передач. — Накладки на пороги. Экстерьер: — Размер дисков 21″. Освещение: — Лазерные фары. — Адаптивные фары. — Корректор фар. Комплектность: — Птс.\n",
      "Сочи\n",
      "2 дня назад\n",
      "FTCARS\n",
      "4,7\n",
      "18 отзывов\n",
      "Проверенный партнёр\n",
      "BMW X6 3.0 AT, 2020, 121 742 км\n",
      "7 249 000 ₽\n",
      "Скидка за трейд-ин\n",
      "Написать\n",
      "Показать телефон\n",
      "121 742 км, 3.0 AT (249 л.с.), внедорожник, полный, дизель\n",
      "Дилерское обслуживание. Пробег проверен и подтвержден. Комплектация M sport Pro. Пневматическая подвеска. Без Дтп, 1 собственник. На что стоит обратить внимание: - Интегральное активное рулевое управление. - 2-осная пневматическая подвеска. - Автодоводчик дверей. - Подстаканник с поддержкой температуры. - Сиденье повышенной комфортности с памятью положения. - Лазерные фары. - Система парковки Plus, камера 360. - Дисплей на лобовом стекле. - Harman/Kardon система объемного звучания. - Телефония с беспроводной зарядкой. - Система управления жестами Bmw. - Потолок Alcantara антрацит. Автомобиль можно приобрести в кредит и в лизинг. В нашем дилерском центре возможно приобретение по программе трейд-ин на выгодных условиях. Оформим страховые продукты по лучшей стоимости. Гарантия юридической чистоты сделки. Возврат денег в течение 14 календарных дней при обнаружении скрытых дефектов. Будем рады Вас видеть ежедневно с 9-00 до 21-00 по адресу: г. Санкт-Петербург, ул. Кушелевская дорога, 14. Аксель-Моторс Север. Официальный дилер Bmw и Mini. Птс оригинал. Место осмотра. Осмотреть автомобиль можно по адресу: Санкт-Петербург, Кушелевская дорога д. 14. Комплектация «xdrive30d M Sport Pro»: Активная безопасность: — Антиблокировочная система. — Антипробуксовочная система. — Система курсовой устойчивости. — Датчик давления в шинах. Пассивная безопасность: — Подушки безопасности водителя. — Подушки безопасности пассажира. — Боковые передние подушки безопасности. — Система крепления детских автокресел. Противоугонная система: — Иммобилайзер. — Центральный замок. Помощь при вождении: — Бортовой компьютер. — Круиз-контроль. — Парктроник. — Камера заднего вида. — Камера 360°. — Система автоматической парковки. — Датчик света. — Датчик дождя. Комфорт: — Усилитель руля. — Пневмоподвеска. — Запуск двигателя с кнопки. — Система доступа без ключа. — Регулировка руля. — Электрорегулировка сиденья пассажира с памятью положения. — Электростеклоподъемники передние. — Электропривод зеркал. Управление климатом и обогрев: — Климат-контроль. — Вентиляция сидений водителя и пассажира. — Подогрев сидений водителя и пассажира. — Подогрев руля. — Обогрев зеркал. — Обогрев форсунок стеклоомывателей. Мультимедиа и навигация: — Навигационная система. — Usb. — TV. — Bluetooth. — Мультифункциональное рулевое колесо. Салон и интерьер: — Кожаная обивка салона. — Светлый салон. — Кожаный руль. — Складывающееся заднее сидение. Экстерьер: — Литые легкосплавные диски. — Размер дисков 21″. Освещение: — Светодиодные фары. — Противотуманные фары. — Адаптивные фары. — Корректор фар.\n",
      "Санкт-Петербург\n",
      "11 часов назад\n",
      "Аксель-Моторс Север\n",
      "4,9\n",
      "901 отзыв\n",
      "Проверенный партнёр\n",
      "BMW X6 3.0 AT, 2020, 31 000 км\n",
      "9 999 000 ₽\n",
      "Только на Авито\n",
      "Без ДТП\n",
      "Онлайн-показ\n",
      "Написать\n",
      "Показать телефон\n",
      "31 000 км, 3.0 AT (400 л.с.), внедорожник, полный, дизель\n",
      "Бмв х6м50д (400л. С.). Машина в состоянии новой). Обклеена в бронепленку). Лазерные фары. Проекция на лобовое стекле. Сиденья М Спорт, как на х6 м. Музыка харман кардон. Хрустальные ручки. Доводчики дверей. Безключевой доступ. И многое другое! Очень крутой и дорого цвет 3 слойный перламутр! Пробег оригинальный! Ни одной крашенной детали, без Дтп! Едет очень достойно)). Только из Германии! Без пробега по РФ. Оригинальный подтвержденный документами пробег! Готов к постановке на учёт! Для Вашего спокойствия, готов присутствовать в гиа, при постановке на учёт! Возможна продажа в кредит. Или обмен на ваш авто с вашей доплатой!\n",
      "Республика Адыгея, Тахтамукайский р-н, Яблоновское городское поселение, пгт. Яблоновский\n",
      "5 дней назад\n",
      "BMW X6 3.0 AT, 2020, 37 900 км\n",
      "8 590 000 ₽\n",
      "Соответствует оценке\n",
      "Реальный пробег\n",
      "Написать\n",
      "Показать телефон\n",
      "37 900 км, 3.0 AT (249 л.с.), внедорожник, полный, дизель\n",
      "Фактически 1 собственник(1й лизинг, 2ЮЛ, 3 учредитель ЮЛ). Идеальное состояние. Два комплекта резины. Богатая комплектация. Видеорегистраторы спереди и сзади. Пленка. 1 собственник. Идеальное состояние. Два комплекта резины. Богатая комплектация. Видеорегистраторы спереди и сзади. Пленка.\n",
      "Санкт-Петербург\n",
      "1 день назад\n",
      "Николай\n",
      "5,0\n",
      "40 отзывов\n"
     ]
    }
   ],
   "source": [
    "for element in parsers.driver.find_elements(By.CSS_SELECTOR, 'div.iva-item-root-_lk9K.photo-slider-slider-S15A_.iva-item-list-rfgcH.iva-item-redesign-rop6P.iva-item-responsive-_lbhG.iva-item-xl-_jicv.items-item-My3ih.items-listItem-Gd1jN.js-catalog-item-enum'):\n",
    "    print(element.text)"
   ]
  },
  {
   "cell_type": "code",
   "execution_count": 12,
   "metadata": {},
   "outputs": [
    {
     "data": {
      "text/plain": [
       "'iva-item-root-_lk9K.photo-slider-slider-S15A_.iva-item-list-rfgcH.iva-item-redesign-rop6P.iva-item-responsive-_lbhG.iva-item-xl-_jicv.items-item-My3ih.items-listItem-Gd1jN.js-catalog-item-enum'"
      ]
     },
     "execution_count": 12,
     "metadata": {},
     "output_type": "execute_result"
    }
   ],
   "source": [
    "\"iva-item-root-_lk9K photo-slider-slider-S15A_ iva-item-list-rfgcH iva-item-redesign-rop6P iva-item-responsive-_lbhG iva-item-xl-_jicv items-item-My3ih items-listItem-Gd1jN js-catalog-item-enum\".replace(' ', '.')"
   ]
  }
 ],
 "metadata": {
  "kernelspec": {
   "display_name": "Python 3",
   "language": "python",
   "name": "python3"
  },
  "language_info": {
   "codemirror_mode": {
    "name": "ipython",
    "version": 3
   },
   "file_extension": ".py",
   "mimetype": "text/x-python",
   "name": "python",
   "nbconvert_exporter": "python",
   "pygments_lexer": "ipython3",
   "version": "3.11.7"
  }
 },
 "nbformat": 4,
 "nbformat_minor": 2
}
