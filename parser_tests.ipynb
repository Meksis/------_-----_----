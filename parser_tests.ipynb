{
 "cells": [
  {
   "cell_type": "code",
   "execution_count": 1,
   "metadata": {
    "notebookRunGroups": {
     "groupValue": "12"
    }
   },
   "outputs": [],
   "source": [
    "from selenium.webdriver import Chrome\n",
    "from selenium.webdriver.common.by import By\n",
    "from selenium.webdriver.common.keys import Keys\n",
    "from selenium.webdriver.common.action_chains import ActionChains\n",
    "\n",
    "\n",
    "import time\n",
    "\n",
    "# from selenium.webdriver.common.desired_capabilities import DesiredCapabilities\n",
    "from selenium.webdriver.support.wait import WebDriverWait\n",
    "from selenium.webdriver.support import expected_conditions as EC\n",
    "\n",
    "\n",
    "\n",
    "\n",
    "from datetime import datetime\n",
    "import pandas as pd"
   ]
  },
  {
   "cell_type": "code",
   "execution_count": 2,
   "metadata": {
    "notebookRunGroups": {
     "groupValue": "12"
    }
   },
   "outputs": [],
   "source": [
    "urls = {\n",
    "    'avito.ru' : \"https://www.avito.ru/rossiya/avtomobili?cd=1&radius=0&q=\",\n",
    "    'auto.ru' : \"https://auto.ru/cars/\",         # + /all\n",
    "    'drom.ru' : \"https://auto.drom.ru\"         \n",
    "}"
   ]
  },
  {
   "cell_type": "code",
   "execution_count": 3,
   "metadata": {
    "notebookRunGroups": {
     "groupValue": "12"
    }
   },
   "outputs": [],
   "source": [
    "class Parsers:\n",
    "    def __init__(self, urls, driver : Chrome) -> None:\n",
    "        self.urls = urls\n",
    "        self.driver = driver\n",
    "\n",
    "    def get_avito(self, search_query : str, reopened : bool = False, datas : pd.DataFrame = pd.DataFrame()):\n",
    "        self.cars_datas = datas\n",
    "\n",
    "        if not reopened:\n",
    "            self.driver.get(self.urls['avito.ru'] + search_query)\n",
    "\n",
    "        # cars_panels = self.driver.find_elements(By.CSS_SELECTOR, 'div.iva-item-root-_lk9K.photo-slider-slider-S15A_.iva-item-list-rfgcH.iva-item-redesign-rop6P.iva-item-responsive-_lbhG.iva-item-xl-_jicv.items-item-My3ih.items-listItem-Gd1jN.js-catalog-item-enum')\n",
    "        cars_panels = self.driver.find_elements(By.XPATH, '//*[@data-marker=\"item\"]')\n",
    "\n",
    "\n",
    "        car_data = {}\n",
    "        # print(len(cars_panels))\n",
    "\n",
    "\n",
    "        for car_panel in cars_panels:\n",
    "            publication_name = car_panel.find_element(By.CLASS_NAME, 'iva-item-titleStep-pdebR').text\n",
    "\n",
    "            # print(publication_name.split(','))\n",
    "\n",
    "            publication_name = publication_name.split(',')\n",
    "\n",
    "            if len(publication_name) == 3:\n",
    "                name, year, mileage = publication_name\n",
    "            \n",
    "            elif len(publication_name) == 4:\n",
    "                name, year, _, mileage = publication_name\n",
    "\n",
    "\n",
    "\n",
    "\n",
    "            car_data.update({\n",
    "                'car_model' : name,\n",
    "                'car_year_produced' : year,\n",
    "                'car_mileage' : int(mileage.replace(' ', '')[: -3]),\n",
    "                'car_price' : ''.join(car_panel.find_element(By.CLASS_NAME, 'price-root-RA1pj').text.split(' '))[: -1],\n",
    "                'publication_link' : car_panel.find_element(By.CLASS_NAME, 'iva-item-title-py3i_').find_element(By.CSS_SELECTOR, 'a.styles-module-root-QmppR.styles-module-root_noVisited-aFA10').get_attribute('href')\n",
    "\n",
    "            })\n",
    "\n",
    "            self.cars_datas = pd.concat([self.cars_datas, pd.DataFrame([car_data])])\n",
    "\n",
    "\n",
    "            # print(car_data)\n",
    "\n",
    "\n",
    "\n",
    "\n",
    "\n",
    "        # pages_panel = self.driver.find_element(By.CSS_SELECTOR, 'ul.styles-module-root-nZne3.styles-module-root_size_s-FzmdD')\n",
    "\n",
    "        try:\n",
    "            # next_button = self.driver.find_element(By.CSS_SELECTOR, 'a.styles-module-item-kF45w.styles-module-item_arrow-sxBqe.styles-module-item_size_s-Tvz95.styles-module-item_link-_bV2N')\n",
    "            next_button = self.driver.find_element(By.XPATH, '//*[@data-marker=\"pagination-button/nextPage\"]')\n",
    "\n",
    "            # print(next_button.text)\n",
    "            \n",
    "            # return self.cars_datas\n",
    "            # break\n",
    "            next_button.click()\n",
    "            self.get_avito(search_query=search_query, reopened=True, datas=self.cars_datas)\n",
    "\n",
    "        except:\n",
    "            # Последняя страница\n",
    "            return(self.cars_datas.reset_index())\n",
    "\n",
    "\n",
    "    def get_drom(self, mark : str, model : str, year : str, reopened : bool = False, datas : pd.DataFrame = pd.DataFrame()):\n",
    "        self.cars_datas = datas\n",
    "\n",
    "        if not reopened:\n",
    "            self.driver.get(self.urls['drom.ru'])\n",
    "            self.driver.refresh()\n",
    "\n",
    "        mark_input = self.driver.find_element(By.XPATH, '//input[@placeholder=\"Марка\"]')\n",
    "        model_input = self.driver.find_element(By.XPATH, '//input[@placeholder=\"Модель\"]')   \n",
    "\n",
    "        variants = self.driver.find_elements(By.CSS_SELECTOR, 'div.css-1vc4kf7.ewaf0l10')\n",
    "        mark_variants = variants[0]\n",
    "        model_variants = variants[1]\n",
    "\n",
    "\n",
    "        mark_input.click()\n",
    "        mark_input.send_keys(mark)\n",
    "        time.sleep(1)\n",
    "        mark_variants.find_elements(By.CSS_SELECTOR, 'div.css-1r0zrug.e1uu17r80')[2].click()\n",
    "\n",
    "\n",
    "        model_input.click()\n",
    "        model_input.send_keys(model)\n",
    "        time.sleep(1)\n",
    "        model_variants.find_elements(By.CSS_SELECTOR, 'div.css-1r0zrug.e1uu17r80')[2].click()\n",
    "\n",
    "\n",
    "        year_button = self.driver.find_elements(By.CSS_SELECTOR, 'button.css-me79aa.e75dypj1')[1]\n",
    "        year_button.click()\n",
    "\n",
    "        year_input= self.driver.find_element(By.CSS_SELECTOR, 'div.css-u25ii9.e154wmfa0')\n",
    "        years = year_input.find_elements(By.CSS_SELECTOR, 'div.css-10ya1wz.e1x0dvi10')\n",
    "\n",
    "        year = [year_ for year_ in years if year_.text == year][0]\n",
    "\n",
    "        year.click()\n",
    "\n",
    "        self.driver.find_element(By.CSS_SELECTOR, 'button.css-1txnc2i.e3cb8x01').click()\n",
    "\n",
    "        \n",
    "\n",
    "\n",
    "\n",
    "\n",
    "\n",
    "\n",
    "\n",
    "    def test_avito_next(self):\n",
    "        self.driver.get(urls['avito.ru'])\n",
    "        next_button = self.driver.find_element(By.XPATH, '//*[@data-marker=\"pagination-button/nextPage\"]')\n",
    "\n",
    "        # print(next_button.text)\n",
    "        \n",
    "        # return self.cars_datas\n",
    "        # break\n",
    "        next_button.click()\n",
    "        # self.get_avito(search_query=search_query)\n",
    "\n",
    "\n",
    "\n",
    "\n",
    "\n"
   ]
  },
  {
   "cell_type": "markdown",
   "metadata": {},
   "source": [
    "---"
   ]
  },
  {
   "cell_type": "code",
   "execution_count": 4,
   "metadata": {
    "notebookRunGroups": {
     "groupValue": "12"
    }
   },
   "outputs": [],
   "source": [
    "parsers = Parsers(urls, Chrome())"
   ]
  },
  {
   "cell_type": "markdown",
   "metadata": {},
   "source": [
    "---"
   ]
  },
  {
   "cell_type": "code",
   "execution_count": 8,
   "metadata": {
    "notebookRunGroups": {
     "groupValue": "1"
    }
   },
   "outputs": [
    {
     "ename": "NoSuchWindowException",
     "evalue": "Message: no such window: target window already closed\nfrom unknown error: web view not found\n  (Session info: chrome=121.0.6167.185)\nStacktrace:\n\tGetHandleVerifier [0x00007FF7ACD45E42+3538674]\n\t(No symbol) [0x00007FF7AC964C02]\n\t(No symbol) [0x00007FF7AC815AEB]\n\t(No symbol) [0x00007FF7AC7F288C]\n\t(No symbol) [0x00007FF7AC885DD7]\n\t(No symbol) [0x00007FF7AC89B40F]\n\t(No symbol) [0x00007FF7AC87EE53]\n\t(No symbol) [0x00007FF7AC84F514]\n\t(No symbol) [0x00007FF7AC850631]\n\tGetHandleVerifier [0x00007FF7ACD76CAD+3738973]\n\tGetHandleVerifier [0x00007FF7ACDCC506+4089270]\n\tGetHandleVerifier [0x00007FF7ACDC4823+4057299]\n\tGetHandleVerifier [0x00007FF7ACA95C49+720121]\n\t(No symbol) [0x00007FF7AC97126F]\n\t(No symbol) [0x00007FF7AC96C304]\n\t(No symbol) [0x00007FF7AC96C432]\n\t(No symbol) [0x00007FF7AC95BD04]\n\tBaseThreadInitThunk [0x00007FF97ED77344+20]\n\tRtlUserThreadStart [0x00007FF97F7C26B1+33]\n",
     "output_type": "error",
     "traceback": [
      "\u001b[1;31m---------------------------------------------------------------------------\u001b[0m",
      "\u001b[1;31mNoSuchWindowException\u001b[0m                     Traceback (most recent call last)",
      "Cell \u001b[1;32mIn[8], line 1\u001b[0m\n\u001b[1;32m----> 1\u001b[0m avito_cars \u001b[38;5;241m=\u001b[39m \u001b[43mparsers\u001b[49m\u001b[38;5;241;43m.\u001b[39;49m\u001b[43mget_avito\u001b[49m\u001b[43m(\u001b[49m\u001b[38;5;124;43m'\u001b[39;49m\u001b[38;5;124;43mBMW x6 2020\u001b[39;49m\u001b[38;5;124;43m'\u001b[39;49m\u001b[43m)\u001b[49m\n\u001b[0;32m      2\u001b[0m \u001b[38;5;28mprint\u001b[39m(avito_cars)\n",
      "Cell \u001b[1;32mIn[6], line 13\u001b[0m, in \u001b[0;36mParsers.get_avito\u001b[1;34m(self, search_query, reopened, datas)\u001b[0m\n\u001b[0;32m     10\u001b[0m     \u001b[38;5;28mself\u001b[39m\u001b[38;5;241m.\u001b[39mdriver\u001b[38;5;241m.\u001b[39mget(\u001b[38;5;28mself\u001b[39m\u001b[38;5;241m.\u001b[39murls[\u001b[38;5;124m'\u001b[39m\u001b[38;5;124mavito.ru\u001b[39m\u001b[38;5;124m'\u001b[39m] \u001b[38;5;241m+\u001b[39m search_query)\n\u001b[0;32m     12\u001b[0m \u001b[38;5;66;03m# cars_panels = self.driver.find_elements(By.CSS_SELECTOR, 'div.iva-item-root-_lk9K.photo-slider-slider-S15A_.iva-item-list-rfgcH.iva-item-redesign-rop6P.iva-item-responsive-_lbhG.iva-item-xl-_jicv.items-item-My3ih.items-listItem-Gd1jN.js-catalog-item-enum')\u001b[39;00m\n\u001b[1;32m---> 13\u001b[0m cars_panels \u001b[38;5;241m=\u001b[39m \u001b[38;5;28;43mself\u001b[39;49m\u001b[38;5;241;43m.\u001b[39;49m\u001b[43mdriver\u001b[49m\u001b[38;5;241;43m.\u001b[39;49m\u001b[43mfind_elements\u001b[49m\u001b[43m(\u001b[49m\u001b[43mBy\u001b[49m\u001b[38;5;241;43m.\u001b[39;49m\u001b[43mXPATH\u001b[49m\u001b[43m,\u001b[49m\u001b[43m \u001b[49m\u001b[38;5;124;43m'\u001b[39;49m\u001b[38;5;124;43m//*[@data-marker=\u001b[39;49m\u001b[38;5;124;43m\"\u001b[39;49m\u001b[38;5;124;43mitem\u001b[39;49m\u001b[38;5;124;43m\"\u001b[39;49m\u001b[38;5;124;43m]\u001b[39;49m\u001b[38;5;124;43m'\u001b[39;49m\u001b[43m)\u001b[49m\n\u001b[0;32m     16\u001b[0m car_data \u001b[38;5;241m=\u001b[39m {}\n\u001b[0;32m     17\u001b[0m \u001b[38;5;66;03m# print(len(cars_panels))\u001b[39;00m\n",
      "File \u001b[1;32mc:\\Python311\\Lib\\site-packages\\selenium\\webdriver\\remote\\webdriver.py:771\u001b[0m, in \u001b[0;36mWebDriver.find_elements\u001b[1;34m(self, by, value)\u001b[0m\n\u001b[0;32m    767\u001b[0m     value \u001b[38;5;241m=\u001b[39m \u001b[38;5;124mf\u001b[39m\u001b[38;5;124m'\u001b[39m\u001b[38;5;124m[name=\u001b[39m\u001b[38;5;124m\"\u001b[39m\u001b[38;5;132;01m{\u001b[39;00mvalue\u001b[38;5;132;01m}\u001b[39;00m\u001b[38;5;124m\"\u001b[39m\u001b[38;5;124m]\u001b[39m\u001b[38;5;124m'\u001b[39m\n\u001b[0;32m    769\u001b[0m \u001b[38;5;66;03m# Return empty list if driver returns null\u001b[39;00m\n\u001b[0;32m    770\u001b[0m \u001b[38;5;66;03m# See https://github.com/SeleniumHQ/selenium/issues/4555\u001b[39;00m\n\u001b[1;32m--> 771\u001b[0m \u001b[38;5;28;01mreturn\u001b[39;00m \u001b[38;5;28;43mself\u001b[39;49m\u001b[38;5;241;43m.\u001b[39;49m\u001b[43mexecute\u001b[49m\u001b[43m(\u001b[49m\u001b[43mCommand\u001b[49m\u001b[38;5;241;43m.\u001b[39;49m\u001b[43mFIND_ELEMENTS\u001b[49m\u001b[43m,\u001b[49m\u001b[43m \u001b[49m\u001b[43m{\u001b[49m\u001b[38;5;124;43m\"\u001b[39;49m\u001b[38;5;124;43musing\u001b[39;49m\u001b[38;5;124;43m\"\u001b[39;49m\u001b[43m:\u001b[49m\u001b[43m \u001b[49m\u001b[43mby\u001b[49m\u001b[43m,\u001b[49m\u001b[43m \u001b[49m\u001b[38;5;124;43m\"\u001b[39;49m\u001b[38;5;124;43mvalue\u001b[39;49m\u001b[38;5;124;43m\"\u001b[39;49m\u001b[43m:\u001b[49m\u001b[43m \u001b[49m\u001b[43mvalue\u001b[49m\u001b[43m}\u001b[49m\u001b[43m)\u001b[49m[\u001b[38;5;124m\"\u001b[39m\u001b[38;5;124mvalue\u001b[39m\u001b[38;5;124m\"\u001b[39m] \u001b[38;5;129;01mor\u001b[39;00m []\n",
      "File \u001b[1;32mc:\\Python311\\Lib\\site-packages\\selenium\\webdriver\\remote\\webdriver.py:347\u001b[0m, in \u001b[0;36mWebDriver.execute\u001b[1;34m(self, driver_command, params)\u001b[0m\n\u001b[0;32m    345\u001b[0m response \u001b[38;5;241m=\u001b[39m \u001b[38;5;28mself\u001b[39m\u001b[38;5;241m.\u001b[39mcommand_executor\u001b[38;5;241m.\u001b[39mexecute(driver_command, params)\n\u001b[0;32m    346\u001b[0m \u001b[38;5;28;01mif\u001b[39;00m response:\n\u001b[1;32m--> 347\u001b[0m     \u001b[38;5;28;43mself\u001b[39;49m\u001b[38;5;241;43m.\u001b[39;49m\u001b[43merror_handler\u001b[49m\u001b[38;5;241;43m.\u001b[39;49m\u001b[43mcheck_response\u001b[49m\u001b[43m(\u001b[49m\u001b[43mresponse\u001b[49m\u001b[43m)\u001b[49m\n\u001b[0;32m    348\u001b[0m     response[\u001b[38;5;124m\"\u001b[39m\u001b[38;5;124mvalue\u001b[39m\u001b[38;5;124m\"\u001b[39m] \u001b[38;5;241m=\u001b[39m \u001b[38;5;28mself\u001b[39m\u001b[38;5;241m.\u001b[39m_unwrap_value(response\u001b[38;5;241m.\u001b[39mget(\u001b[38;5;124m\"\u001b[39m\u001b[38;5;124mvalue\u001b[39m\u001b[38;5;124m\"\u001b[39m, \u001b[38;5;28;01mNone\u001b[39;00m))\n\u001b[0;32m    349\u001b[0m     \u001b[38;5;28;01mreturn\u001b[39;00m response\n",
      "File \u001b[1;32mc:\\Python311\\Lib\\site-packages\\selenium\\webdriver\\remote\\errorhandler.py:229\u001b[0m, in \u001b[0;36mErrorHandler.check_response\u001b[1;34m(self, response)\u001b[0m\n\u001b[0;32m    227\u001b[0m         alert_text \u001b[38;5;241m=\u001b[39m value[\u001b[38;5;124m\"\u001b[39m\u001b[38;5;124malert\u001b[39m\u001b[38;5;124m\"\u001b[39m]\u001b[38;5;241m.\u001b[39mget(\u001b[38;5;124m\"\u001b[39m\u001b[38;5;124mtext\u001b[39m\u001b[38;5;124m\"\u001b[39m)\n\u001b[0;32m    228\u001b[0m     \u001b[38;5;28;01mraise\u001b[39;00m exception_class(message, screen, stacktrace, alert_text)  \u001b[38;5;66;03m# type: ignore[call-arg]  # mypy is not smart enough here\u001b[39;00m\n\u001b[1;32m--> 229\u001b[0m \u001b[38;5;28;01mraise\u001b[39;00m exception_class(message, screen, stacktrace)\n",
      "\u001b[1;31mNoSuchWindowException\u001b[0m: Message: no such window: target window already closed\nfrom unknown error: web view not found\n  (Session info: chrome=121.0.6167.185)\nStacktrace:\n\tGetHandleVerifier [0x00007FF7ACD45E42+3538674]\n\t(No symbol) [0x00007FF7AC964C02]\n\t(No symbol) [0x00007FF7AC815AEB]\n\t(No symbol) [0x00007FF7AC7F288C]\n\t(No symbol) [0x00007FF7AC885DD7]\n\t(No symbol) [0x00007FF7AC89B40F]\n\t(No symbol) [0x00007FF7AC87EE53]\n\t(No symbol) [0x00007FF7AC84F514]\n\t(No symbol) [0x00007FF7AC850631]\n\tGetHandleVerifier [0x00007FF7ACD76CAD+3738973]\n\tGetHandleVerifier [0x00007FF7ACDCC506+4089270]\n\tGetHandleVerifier [0x00007FF7ACDC4823+4057299]\n\tGetHandleVerifier [0x00007FF7ACA95C49+720121]\n\t(No symbol) [0x00007FF7AC97126F]\n\t(No symbol) [0x00007FF7AC96C304]\n\t(No symbol) [0x00007FF7AC96C432]\n\t(No symbol) [0x00007FF7AC95BD04]\n\tBaseThreadInitThunk [0x00007FF97ED77344+20]\n\tRtlUserThreadStart [0x00007FF97F7C26B1+33]\n"
     ]
    }
   ],
   "source": [
    "avito_cars = parsers.get_avito('BMW x6 2020')\n",
    "print(avito_cars)"
   ]
  },
  {
   "cell_type": "markdown",
   "metadata": {},
   "source": [
    "---"
   ]
  },
  {
   "cell_type": "code",
   "execution_count": 5,
   "metadata": {
    "notebookRunGroups": {
     "groupValue": "2"
    }
   },
   "outputs": [],
   "source": [
    "drom_cars = parsers.get_drom('BMW', 'X6', '2020')"
   ]
  },
  {
   "cell_type": "code",
   "execution_count": 6,
   "metadata": {},
   "outputs": [],
   "source": [
    "mark_input = parsers.driver.find_element(By.XPATH, '//input[@placeholder=\"Марка\"]')\n",
    "model_input = parsers.driver.find_element(By.XPATH, '//input[@placeholder=\"Модель\"]')"
   ]
  },
  {
   "cell_type": "code",
   "execution_count": 9,
   "metadata": {},
   "outputs": [
    {
     "data": {
      "text/plain": [
       "['Любая марка', '', 'BMW (15824)', '', '']"
      ]
     },
     "execution_count": 9,
     "metadata": {},
     "output_type": "execute_result"
    }
   ],
   "source": [
    "[element.text for element in parsers.driver.find_elements(By.CSS_SELECTOR, 'div.css-1r0zrug.e1uu17r80')]"
   ]
  },
  {
   "cell_type": "code",
   "execution_count": 32,
   "metadata": {},
   "outputs": [],
   "source": [
    "mark_input.click()\n",
    "mark_input.send_keys('BMW')\n",
    "# mark_input.send_keys('')\n",
    "# mark_input.send_keys('AAAAAA')"
   ]
  },
  {
   "cell_type": "code",
   "execution_count": 9,
   "metadata": {},
   "outputs": [],
   "source": [
    "parsers.driver.find_elements(By.CSS_SELECTOR, 'div.css-1r0zrug.e1uu17r80')[2].click()"
   ]
  },
  {
   "cell_type": "code",
   "execution_count": 6,
   "metadata": {},
   "outputs": [
    {
     "data": {
      "text/plain": [
       "[<selenium.webdriver.remote.webelement.WebElement (session=\"f2a0cfaca02c1de12294eb1209cfade5\", element=\"8B43CEE97E9BF8E9AE0E25680F9BE29B_element_650\")>,\n",
       " <selenium.webdriver.remote.webelement.WebElement (session=\"f2a0cfaca02c1de12294eb1209cfade5\", element=\"8B43CEE97E9BF8E9AE0E25680F9BE29B_element_665\")>]"
      ]
     },
     "execution_count": 6,
     "metadata": {},
     "output_type": "execute_result"
    }
   ],
   "source": [
    "parsers.driver.find_elements(By.CSS_SELECTOR, 'div.css-1vc4kf7.ewaf0l10')"
   ]
  },
  {
   "cell_type": "code",
   "execution_count": 19,
   "metadata": {},
   "outputs": [],
   "source": [
    "mark_input.clear()\n"
   ]
  },
  {
   "cell_type": "code",
   "execution_count": null,
   "metadata": {},
   "outputs": [],
   "source": [
    "parsers.driver.send"
   ]
  },
  {
   "cell_type": "code",
   "execution_count": null,
   "metadata": {},
   "outputs": [],
   "source": []
  },
  {
   "cell_type": "code",
   "execution_count": null,
   "metadata": {},
   "outputs": [],
   "source": []
  },
  {
   "cell_type": "code",
   "execution_count": null,
   "metadata": {},
   "outputs": [],
   "source": []
  },
  {
   "cell_type": "code",
   "execution_count": null,
   "metadata": {},
   "outputs": [],
   "source": []
  }
 ],
 "metadata": {
  "kernelspec": {
   "display_name": "Python 3",
   "language": "python",
   "name": "python3"
  },
  "language_info": {
   "codemirror_mode": {
    "name": "ipython",
    "version": 3
   },
   "file_extension": ".py",
   "mimetype": "text/x-python",
   "name": "python",
   "nbconvert_exporter": "python",
   "pygments_lexer": "ipython3",
   "version": "3.11.4"
  }
 },
 "nbformat": 4,
 "nbformat_minor": 2
}
